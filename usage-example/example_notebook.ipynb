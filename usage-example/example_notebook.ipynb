{
 "cells": [
  {
   "cell_type": "markdown",
   "metadata": {},
   "source": [
    "# The Hendricks Team\n",
    "\n",
    "# Using summix_py, An Example Notebook"
   ]
  },
  {
   "cell_type": "markdown",
   "metadata": {},
   "source": [
    "## Example 1: Solving an Ancestral Deconvolution Problem"
   ]
  },
  {
   "cell_type": "markdown",
   "metadata": {},
   "source": [
    "\n",
    "* We use simulated SNPs with minor allele frequencies for $K=5$ ancestries -- European ancestries, African ancestries, South Asian ancestries, East Asian ancestries, and Indigenous American ancestires. \n",
    "\n",
    "* We numerically solve for the 5 ancestry's true proportions, which is the vector $\\pi^*:=(\\pi_1,\\pi_2,\\pi_3,\\pi_4, \\pi_5)$, in an _observed_ population of our choice.\n",
    "    * $\\pi_1$ denotes the proportion of European ancestries in the observed population\n",
    "    * $\\pi_2$ denotes the proportion of African ancestries in the observed population\n",
    "    * $\\pi_3$ denotes the proportion of South Asian ancestries in the observed population\n",
    "    * $\\pi_4$ denotes the proportion of East Asian ancestries in the observed population\n",
    "    * $\\pi_5$ denotes the proportion of Indigenous American ancestries in the observed population\n",
    "\n",
    "* We work with an example data set $D$ with $N=10,000$ SNPs and use this data to solve for the ancestry proportions \n",
    "    * In short: we minimize MSE between the data and a mixture model using Sequential Least Squares Quadratic Programming, or SLSQP. Please see [The Hendricks Team's paper on bioRxiv](https://www.biorxiv.org/content/10.1101/2021.02.03.429446v1) for mathematical/statistical details."
   ]
  },
  {
   "cell_type": "markdown",
   "metadata": {},
   "source": [
    "* The cell below calls the two main functions provided in this package, summix and adjAF (for adjusting allele frequencies)\n",
    "    * Then we can access the functions inside of the script to solve an example problem."
   ]
  },
  {
   "cell_type": "code",
   "execution_count": 1,
   "metadata": {
    "collapsed": true
   },
   "outputs": [],
   "source": [
    "from summix.summix import SUMMIX\n",
    "from summix.adj_af import adjAF\n",
    "import numpy as np"
   ]
  },
  {
   "cell_type": "markdown",
   "metadata": {},
   "source": [
    "* In the cell below, we read in the example data set provided with this package, called \"HA-package-data.txt\".\n",
    "    * We have provided this data in a CSV format as well\n",
    "* We use Pandas to convert from the .txt, tab-delimited format to an array endowed with numerical linear algebra properties Python understands.\n",
    "* How data is formatted matters:\n",
    "    * The data should contain Chromosome number, SNP number (RSID, location on genome), base pair (bP), reference and alternate alleles (A1 and A2), the $K$ minor allele frequencies of the reference ancestires, and finally, any observed allele frequencies we wish to model. \n",
    "    * $D$ does not contain an indexing column -- Pandas/Jupyter is just showing this as part of the print statement -- it is not a column of $D$ itself. \n",
    "    * Notice we only need certain columns of $D$ to solve our example problem\n",
    "        * That is, we only need the minor allele frequencies and whichever observed allele frequency we are modeling, which should be $K+1$ columns of D. In our case, we need 6 of the total 13 columns.\n",
    "    * For more info about data formatting, please see our paper.\n",
    "\n",
    "#### Note that everything done in the cell below is already handled in our HA_script; the user does not have to read-in the data on their own.\n",
    "###### We choose to show the Pandas read-in process below for general demonstration and checks below. Also, we can print out the data for inspection."
   ]
  },
  {
   "cell_type": "code",
   "execution_count": 2,
   "metadata": {},
   "outputs": [
    {
     "data": {
      "text/html": [
       "<div>\n",
       "<style>\n",
       "    .dataframe thead tr:only-child th {\n",
       "        text-align: right;\n",
       "    }\n",
       "\n",
       "    .dataframe thead th {\n",
       "        text-align: left;\n",
       "    }\n",
       "\n",
       "    .dataframe tbody tr th {\n",
       "        vertical-align: top;\n",
       "    }\n",
       "</style>\n",
       "<table border=\"1\" class=\"dataframe\">\n",
       "  <thead>\n",
       "    <tr style=\"text-align: right;\">\n",
       "      <th></th>\n",
       "      <th>CHR</th>\n",
       "      <th>RSID</th>\n",
       "      <th>BP</th>\n",
       "      <th>A1</th>\n",
       "      <th>A2</th>\n",
       "      <th>ref_eur_1000G</th>\n",
       "      <th>ref_afr_1000G</th>\n",
       "      <th>ref_sas_1000G</th>\n",
       "      <th>ref_eas_1000G</th>\n",
       "      <th>ref_iam_1000G</th>\n",
       "      <th>gnomAD_afr</th>\n",
       "      <th>gnomAD_amr</th>\n",
       "      <th>gnomAD_oth</th>\n",
       "    </tr>\n",
       "  </thead>\n",
       "  <tbody>\n",
       "    <tr>\n",
       "      <th>0</th>\n",
       "      <td>1</td>\n",
       "      <td>rs2887286</td>\n",
       "      <td>1156131</td>\n",
       "      <td>C</td>\n",
       "      <td>T</td>\n",
       "      <td>0.173275</td>\n",
       "      <td>0.541663</td>\n",
       "      <td>0.531712</td>\n",
       "      <td>0.846223</td>\n",
       "      <td>0.7093</td>\n",
       "      <td>0.488610</td>\n",
       "      <td>0.525943</td>\n",
       "      <td>0.229705</td>\n",
       "    </tr>\n",
       "    <tr>\n",
       "      <th>1</th>\n",
       "      <td>1</td>\n",
       "      <td>rs41477744</td>\n",
       "      <td>2329564</td>\n",
       "      <td>A</td>\n",
       "      <td>G</td>\n",
       "      <td>0.001238</td>\n",
       "      <td>0.035714</td>\n",
       "      <td>0.000000</td>\n",
       "      <td>0.000000</td>\n",
       "      <td>0.0000</td>\n",
       "      <td>0.045914</td>\n",
       "      <td>0.001179</td>\n",
       "      <td>0.008272</td>\n",
       "    </tr>\n",
       "    <tr>\n",
       "      <th>2</th>\n",
       "      <td>1</td>\n",
       "      <td>rs9661525</td>\n",
       "      <td>2952840</td>\n",
       "      <td>G</td>\n",
       "      <td>T</td>\n",
       "      <td>0.168316</td>\n",
       "      <td>0.120048</td>\n",
       "      <td>0.099180</td>\n",
       "      <td>0.393853</td>\n",
       "      <td>0.2442</td>\n",
       "      <td>0.135977</td>\n",
       "      <td>0.286052</td>\n",
       "      <td>0.155617</td>\n",
       "    </tr>\n",
       "    <tr>\n",
       "      <th>3</th>\n",
       "      <td>1</td>\n",
       "      <td>rs2817174</td>\n",
       "      <td>3044181</td>\n",
       "      <td>C</td>\n",
       "      <td>T</td>\n",
       "      <td>0.428213</td>\n",
       "      <td>0.959325</td>\n",
       "      <td>0.639072</td>\n",
       "      <td>0.570454</td>\n",
       "      <td>0.5000</td>\n",
       "      <td>0.854879</td>\n",
       "      <td>0.488180</td>\n",
       "      <td>0.470425</td>\n",
       "    </tr>\n",
       "    <tr>\n",
       "      <th>4</th>\n",
       "      <td>1</td>\n",
       "      <td>rs12139206</td>\n",
       "      <td>3504073</td>\n",
       "      <td>T</td>\n",
       "      <td>C</td>\n",
       "      <td>0.204215</td>\n",
       "      <td>0.801565</td>\n",
       "      <td>0.393671</td>\n",
       "      <td>0.389881</td>\n",
       "      <td>0.3372</td>\n",
       "      <td>0.724178</td>\n",
       "      <td>0.295508</td>\n",
       "      <td>0.258748</td>\n",
       "    </tr>\n",
       "  </tbody>\n",
       "</table>\n",
       "</div>"
      ],
      "text/plain": [
       "   CHR        RSID       BP A1 A2  ref_eur_1000G  ref_afr_1000G  \\\n",
       "0    1   rs2887286  1156131  C  T       0.173275       0.541663   \n",
       "1    1  rs41477744  2329564  A  G       0.001238       0.035714   \n",
       "2    1   rs9661525  2952840  G  T       0.168316       0.120048   \n",
       "3    1   rs2817174  3044181  C  T       0.428213       0.959325   \n",
       "4    1  rs12139206  3504073  T  C       0.204215       0.801565   \n",
       "\n",
       "   ref_sas_1000G  ref_eas_1000G  ref_iam_1000G  gnomAD_afr  gnomAD_amr  \\\n",
       "0       0.531712       0.846223         0.7093    0.488610    0.525943   \n",
       "1       0.000000       0.000000         0.0000    0.045914    0.001179   \n",
       "2       0.099180       0.393853         0.2442    0.135977    0.286052   \n",
       "3       0.639072       0.570454         0.5000    0.854879    0.488180   \n",
       "4       0.393671       0.389881         0.3372    0.724178    0.295508   \n",
       "\n",
       "   gnomAD_oth  \n",
       "0    0.229705  \n",
       "1    0.008272  \n",
       "2    0.155617  \n",
       "3    0.470425  \n",
       "4    0.258748  "
      ]
     },
     "execution_count": 2,
     "metadata": {},
     "output_type": "execute_result"
    }
   ],
   "source": [
    "import pandas as pd\n",
    "# Read in the data (if tab-delimited txt)\n",
    "D = pd.read_csv(\"example-data/example-data.txt\",sep='\\t')\n",
    "\n",
    "# Read in the data (if CSV)\n",
    "#D = pd.read_csv(\"example-data/example-data.csv\")\n",
    "\n",
    "D.head(5) ### Look at the first 5 rows"
   ]
  },
  {
   "cell_type": "markdown",
   "metadata": {},
   "source": [
    "* In the cell below, we specify the number of reference ancestries, $K$, (here we have 5) and choose an initial iterate.\n",
    "    * Choosing an initial iterate is optional.\n",
    "    * The default initial iterate is $\\pi^{(0)}=\\frac{1}{K}(1,\\ldots,1)\\in \\mathbb{R}^{K}$, if one is not provided.\n",
    "    * The initial iterate must be a $K \\times 1$ (column) or $1 \\times K$ (row) vector (the HA script can handle either shape)."
   ]
  },
  {
   "cell_type": "code",
   "execution_count": 3,
   "metadata": {
    "collapsed": true
   },
   "outputs": [],
   "source": [
    "k = 5 # User must specify number of ancestries!\n",
    "pi_0 = [[0.3,0.1,0.2,0.1,0.3]] # You do not have to provide the initial iterate, but you may."
   ]
  },
  {
   "cell_type": "markdown",
   "metadata": {},
   "source": [
    "* In the cell below, we quickly check that we have specified a data matrix $D$ and total number of ancestries $K$ that match the number of SNPs we think we are working with as well as the correct reference ancestry number."
   ]
  },
  {
   "cell_type": "code",
   "execution_count": 4,
   "metadata": {},
   "outputs": [
    {
     "name": "stdout",
     "output_type": "stream",
     "text": [
      "our problem includes 10000 SNPs, and 5 reference ancestries.\n"
     ]
    }
   ],
   "source": [
    "print('our problem includes', np.shape(D)[0], 'SNPs, and', k, 'reference ancestries.')"
   ]
  },
  {
   "cell_type": "markdown",
   "metadata": {},
   "source": [
    "* In the cell below, we specify the required inputs and solve our example deconvolution problem. In detail, our inputs are: \n",
    "    * the $K=5$ reference ancestries (their column names as strings)\n",
    "    * the chosen observed population (its column name as a string)\n",
    "    * the file name of the data (as a string)\n",
    "    * $K$ (as an integer, in our case, this is $5$)\n",
    "    * $\\pi_0$ (as a vector, optional and often just a guess)\n",
    "    * the file format (as a string -- options are 'tab' or 'csv')\n"
   ]
  },
  {
   "cell_type": "code",
   "execution_count": 5,
   "metadata": {},
   "outputs": [
    {
     "name": "stdout",
     "output_type": "stream",
     "text": [
      "Numerical solution via SLSQP, pi_final =  [0.15761182 0.82514076 0.00327338 0.00762932 0.00634473] \n",
      " \n",
      " using observed population: gnomAD_afr \n",
      " \n",
      " Number of SLSQP iterations: 10 \n",
      " \n",
      " Runtime: 0.04575714602833614 seconds \n",
      " \n",
      " \n",
      " Detailed results:\n",
      "0.15761181517545278 is the estimated proportion of ref_eur_1000G \n",
      "\n",
      "0.825140757921369 is the estimated proportion of ref_afr_1000G \n",
      "\n",
      "0.0032733806562866537 is the estimated proportion of ref_sas_1000G \n",
      "\n",
      "0.007629315359773101 is the estimated proportion of ref_eas_1000G \n",
      "\n",
      "0.0063447308871184644 is the estimated proportion of ref_iam_1000G \n",
      "\n"
     ]
    }
   ],
   "source": [
    "# Call the main function of the script, with correctly specified inputs, to obtain an answer_obj, or answer object, to store\n",
    "# which will store the key outputs for calculations/checks (below)\n",
    "# print statements will be automatically triggered\n",
    "\n",
    "my_ref = ['ref_eur_1000G','ref_afr_1000G','ref_sas_1000G','ref_eas_1000G','ref_iam_1000G']\n",
    "answer_obj = SUMMIX(ref = my_ref,\n",
    "                    obs = 'gnomAD_afr', \n",
    "                    file_name = \"example-data/example-data.txt\", \n",
    "                    k = 5, \n",
    "                    guess = pi_0, \n",
    "                    file_format = 'tab')"
   ]
  },
  {
   "cell_type": "markdown",
   "metadata": {},
   "source": [
    "#### _Above we see a printout of the numerical solution, $\\pi^{final}$, the name of the chosen observed population, the number of SLSQP iterations, and the time in seconds of the run._\n",
    "\n",
    "\n",
    "* The numerical solution we have found is given by $$\\pi^\\text{final}\\approx (0.158,0.825,0.003,0.008,0.006)$$\n",
    "\n",
    "    * $\\pi_1^\\text{final}\\approx 0.158$ denotes the proportion of European ancestries in the observed population\n",
    "    * $\\pi_2^\\text{final}\\approx 0.825$ denotes the proportion of African ancestries in the observed population\n",
    "    * $\\pi_3^\\text{final}\\approx 0.003$ denotes the proportion of South Asian ancestries in the observed population\n",
    "    * $\\pi_4^\\text{final}\\approx 0.008$ denotes the proportion of East Asian ancestries in the observed population\n",
    "    * $\\pi_5^\\text{final}\\approx 0.006$ denotes the proportion of Indigenous American ancestries in the observed population\n",
    "    \n",
    "\n",
    "* Recall that we chose the gnomAD African sample for our observed population in this example.\n",
    "    \n",
    "    \n",
    "* SLSQP should use about 10-12 iterations to obtain this numerical solution\n",
    "    \n",
    "\n",
    "* The runtime of the script/computational process should be less than a second on most machines\n",
    "\n",
    "<br>"
   ]
  },
  {
   "cell_type": "markdown",
   "metadata": {},
   "source": [
    "* Our \"answer_obj\" can now be \"unpacked\" by calling the 0th, 1st, or 2nd entry in that object which will return the solution vector, number of iterations, and time, respectively.\n",
    "    * May be useful if you want to analyze the solution vector in some fashion, or find average run times over many trials, etc.\n",
    "    * To demonstrate, let's check that our solution vector adds up to 1 exactly."
   ]
  },
  {
   "cell_type": "code",
   "execution_count": 6,
   "metadata": {},
   "outputs": [
    {
     "name": "stdout",
     "output_type": "stream",
     "text": [
      "1.0\n"
     ]
    }
   ],
   "source": [
    "pi_hat = answer_obj[0] # Defines pi_final as the solution vector\n",
    "print(np.sum(pi_hat,axis=0)) # Check that components of solution vector add to 1"
   ]
  },
  {
   "cell_type": "markdown",
   "metadata": {},
   "source": [
    "## Example 2: Adjusting Allele Frequencies\n",
    "\n",
    "* Using estimated ancestry proportions $\\hat{\\pi}$ (potentially obtained using summix), we may update certain of the allele frequencies within a chosen observed ancestry, matching the continental ancestry proportions of a _target_ individual or sample.\n",
    "    * For details and formulations, please refer to our paper.\n",
    "* Here, we will use a $K=2$ ancestry example (1000 Genomes Indigenous Americans and 1000 Genomes African) observed within the 1000 Genomes African population.\n",
    "    * The adjustment is performed on the 1000 Genomes African population."
   ]
  },
  {
   "cell_type": "markdown",
   "metadata": {},
   "source": [
    "* Below, we define $\\pi_{\\text{target}}$, the ancestry proportions from a chosen target sample\n",
    "    * Here we assume our sample is 90% African and 10% Indigenous American\n",
    "* We also define a new $\\hat{\\pi}$ (since we are modeling at 2 ancestry population this time), roughly based off of our solution to the first example in this notebook"
   ]
  },
  {
   "cell_type": "code",
   "execution_count": 7,
   "metadata": {
    "collapsed": true
   },
   "outputs": [],
   "source": [
    "pi_target = np.array((0.1,0.9))\n",
    "new_pi_hat = np.array((0.006,0.994))"
   ]
  },
  {
   "cell_type": "markdown",
   "metadata": {},
   "source": [
    "* In the cell below, we specify the required inputs and perform our example adjustment. In detail, we specify: \n",
    "    * the $K=2$ reference ancestries (their column names as strings)\n",
    "    * the chosen observed population (its column name as a string)\n",
    "    * $\\pi_{\\text{target}}$ (as a vector)\n",
    "    * the file name of the data (as a string)\n",
    "    * the file format (as a string -- options are 'tab' or 'csv')\n",
    "    * $\\hat{\\pi}$ (as a vector)"
   ]
  },
  {
   "cell_type": "code",
   "execution_count": 8,
   "metadata": {
    "scrolled": false
   },
   "outputs": [
    {
     "name": "stdout",
     "output_type": "stream",
     "text": [
      "By default we print out the first 5 rows of the user-provided reference ancestries \n",
      " \n",
      " that will be used in the calculation. Please check column names for correctness: \n",
      " \n",
      " \n",
      "    ref_iam_1000G\n",
      "0         0.7093\n",
      "1         0.0000\n",
      "2         0.2442\n",
      "3         0.5000\n",
      "4         0.3372 \n",
      " \n",
      " \n",
      " We also print out the first 5 rows of the user-provided observed ancestry \n",
      " \n",
      "  to be used in the calculation. Please check column name for correctness: \n",
      " \n",
      " \n",
      " 0    0.541663\n",
      "1    0.035714\n",
      "2    0.120048\n",
      "3    0.959325\n",
      "4    0.801565\n",
      "Name: ref_afr_1000G, dtype: float64 \n",
      " \n",
      " \n",
      "\n",
      "Adjustment complete! \n",
      " \n",
      " A data frame called new_DF has been created for the user. \n",
      " \n",
      " new_DF contains the original, user-provided data frame, \n",
      " \n",
      " concatenated with the adjusted allele frequencies (appended as the last column).\n"
     ]
    }
   ],
   "source": [
    "my_adj_AF = adjAF(ref = ['ref_iam_1000G','ref_afr_1000G'],\n",
    "                obs = \"ref_afr_1000G\",\n",
    "                pi_target = pi_target,\n",
    "                file_name = \"example-data/example-data.txt\",\n",
    "                file_format = 'tab',\n",
    "                pi_hat = new_pi_hat)"
   ]
  },
  {
   "cell_type": "markdown",
   "metadata": {},
   "source": [
    "* In the cell above, we see the printout from running adjAF in this example problem. We print by default the used columns from the provided data and indicate that the adjustment is completed, telling the user how to access a new data frame containing the adjusted frequencies."
   ]
  },
  {
   "cell_type": "markdown",
   "metadata": {},
   "source": [
    "* In the cell below, we verify that a new column has been appended to our data frame (it will be the last column), containing the adjusted frequencies"
   ]
  },
  {
   "cell_type": "code",
   "execution_count": 9,
   "metadata": {},
   "outputs": [
    {
     "data": {
      "text/html": [
       "<div>\n",
       "<style>\n",
       "    .dataframe thead tr:only-child th {\n",
       "        text-align: right;\n",
       "    }\n",
       "\n",
       "    .dataframe thead th {\n",
       "        text-align: left;\n",
       "    }\n",
       "\n",
       "    .dataframe tbody tr th {\n",
       "        vertical-align: top;\n",
       "    }\n",
       "</style>\n",
       "<table border=\"1\" class=\"dataframe\">\n",
       "  <thead>\n",
       "    <tr style=\"text-align: right;\">\n",
       "      <th></th>\n",
       "      <th>CHR</th>\n",
       "      <th>RSID</th>\n",
       "      <th>BP</th>\n",
       "      <th>A1</th>\n",
       "      <th>A2</th>\n",
       "      <th>ref_eur_1000G</th>\n",
       "      <th>ref_afr_1000G</th>\n",
       "      <th>ref_sas_1000G</th>\n",
       "      <th>ref_eas_1000G</th>\n",
       "      <th>ref_iam_1000G</th>\n",
       "      <th>gnomAD_afr</th>\n",
       "      <th>gnomAD_amr</th>\n",
       "      <th>gnomAD_oth</th>\n",
       "      <th>adjusted_AF</th>\n",
       "    </tr>\n",
       "  </thead>\n",
       "  <tbody>\n",
       "    <tr>\n",
       "      <th>0</th>\n",
       "      <td>1</td>\n",
       "      <td>rs2887286</td>\n",
       "      <td>1156131</td>\n",
       "      <td>C</td>\n",
       "      <td>T</td>\n",
       "      <td>0.173275</td>\n",
       "      <td>0.541663</td>\n",
       "      <td>0.531712</td>\n",
       "      <td>0.846223</td>\n",
       "      <td>0.7093</td>\n",
       "      <td>0.488610</td>\n",
       "      <td>0.525943</td>\n",
       "      <td>0.229705</td>\n",
       "      <td>0.5575164414486923</td>\n",
       "    </tr>\n",
       "    <tr>\n",
       "      <th>1</th>\n",
       "      <td>1</td>\n",
       "      <td>rs41477744</td>\n",
       "      <td>2329564</td>\n",
       "      <td>A</td>\n",
       "      <td>G</td>\n",
       "      <td>0.001238</td>\n",
       "      <td>0.035714</td>\n",
       "      <td>0.000000</td>\n",
       "      <td>0.000000</td>\n",
       "      <td>0.0000</td>\n",
       "      <td>0.045914</td>\n",
       "      <td>0.001179</td>\n",
       "      <td>0.008272</td>\n",
       "      <td>0.03233705794768612</td>\n",
       "    </tr>\n",
       "    <tr>\n",
       "      <th>2</th>\n",
       "      <td>1</td>\n",
       "      <td>rs9661525</td>\n",
       "      <td>2952840</td>\n",
       "      <td>G</td>\n",
       "      <td>T</td>\n",
       "      <td>0.168316</td>\n",
       "      <td>0.120048</td>\n",
       "      <td>0.099180</td>\n",
       "      <td>0.393853</td>\n",
       "      <td>0.2442</td>\n",
       "      <td>0.135977</td>\n",
       "      <td>0.286052</td>\n",
       "      <td>0.155617</td>\n",
       "      <td>0.13178892615694165</td>\n",
       "    </tr>\n",
       "    <tr>\n",
       "      <th>3</th>\n",
       "      <td>1</td>\n",
       "      <td>rs2817174</td>\n",
       "      <td>3044181</td>\n",
       "      <td>C</td>\n",
       "      <td>T</td>\n",
       "      <td>0.428213</td>\n",
       "      <td>0.959325</td>\n",
       "      <td>0.639072</td>\n",
       "      <td>0.570454</td>\n",
       "      <td>0.5000</td>\n",
       "      <td>0.854879</td>\n",
       "      <td>0.488180</td>\n",
       "      <td>0.470425</td>\n",
       "      <td>0.9158880605633803</td>\n",
       "    </tr>\n",
       "    <tr>\n",
       "      <th>4</th>\n",
       "      <td>1</td>\n",
       "      <td>rs12139206</td>\n",
       "      <td>3504073</td>\n",
       "      <td>T</td>\n",
       "      <td>C</td>\n",
       "      <td>0.204215</td>\n",
       "      <td>0.801565</td>\n",
       "      <td>0.393671</td>\n",
       "      <td>0.389881</td>\n",
       "      <td>0.3372</td>\n",
       "      <td>0.724178</td>\n",
       "      <td>0.295508</td>\n",
       "      <td>0.258748</td>\n",
       "      <td>0.7576516382293762</td>\n",
       "    </tr>\n",
       "    <tr>\n",
       "      <th>5</th>\n",
       "      <td>1</td>\n",
       "      <td>rs7514979</td>\n",
       "      <td>3654595</td>\n",
       "      <td>T</td>\n",
       "      <td>C</td>\n",
       "      <td>0.004951</td>\n",
       "      <td>0.418652</td>\n",
       "      <td>0.000000</td>\n",
       "      <td>0.000000</td>\n",
       "      <td>0.0000</td>\n",
       "      <td>0.336249</td>\n",
       "      <td>0.016509</td>\n",
       "      <td>0.024816</td>\n",
       "      <td>0.37906133269617703</td>\n",
       "    </tr>\n",
       "    <tr>\n",
       "      <th>6</th>\n",
       "      <td>1</td>\n",
       "      <td>rs9792946</td>\n",
       "      <td>4119662</td>\n",
       "      <td>G</td>\n",
       "      <td>A</td>\n",
       "      <td>0.100259</td>\n",
       "      <td>0.246031</td>\n",
       "      <td>0.170780</td>\n",
       "      <td>0.068450</td>\n",
       "      <td>0.0000</td>\n",
       "      <td>0.189055</td>\n",
       "      <td>0.058962</td>\n",
       "      <td>0.087477</td>\n",
       "      <td>0.22276462364185112</td>\n",
       "    </tr>\n",
       "    <tr>\n",
       "      <th>7</th>\n",
       "      <td>1</td>\n",
       "      <td>rs10753372</td>\n",
       "      <td>4273842</td>\n",
       "      <td>T</td>\n",
       "      <td>C</td>\n",
       "      <td>0.526005</td>\n",
       "      <td>0.821432</td>\n",
       "      <td>0.663622</td>\n",
       "      <td>0.699395</td>\n",
       "      <td>0.8605</td>\n",
       "      <td>0.777803</td>\n",
       "      <td>0.682033</td>\n",
       "      <td>0.641144</td>\n",
       "      <td>0.8251261501006038</td>\n",
       "    </tr>\n",
       "    <tr>\n",
       "      <th>8</th>\n",
       "      <td>1</td>\n",
       "      <td>rs678246</td>\n",
       "      <td>4561467</td>\n",
       "      <td>G</td>\n",
       "      <td>T</td>\n",
       "      <td>0.103961</td>\n",
       "      <td>0.141857</td>\n",
       "      <td>0.149279</td>\n",
       "      <td>0.001984</td>\n",
       "      <td>0.0000</td>\n",
       "      <td>0.148285</td>\n",
       "      <td>0.057783</td>\n",
       "      <td>0.106618</td>\n",
       "      <td>0.1284421527162978</td>\n",
       "    </tr>\n",
       "    <tr>\n",
       "      <th>9</th>\n",
       "      <td>1</td>\n",
       "      <td>rs12029491</td>\n",
       "      <td>5017652</td>\n",
       "      <td>T</td>\n",
       "      <td>C</td>\n",
       "      <td>0.040842</td>\n",
       "      <td>0.118063</td>\n",
       "      <td>0.073624</td>\n",
       "      <td>0.225200</td>\n",
       "      <td>0.0000</td>\n",
       "      <td>0.106782</td>\n",
       "      <td>0.024764</td>\n",
       "      <td>0.051471</td>\n",
       "      <td>0.10689763581488934</td>\n",
       "    </tr>\n",
       "  </tbody>\n",
       "</table>\n",
       "</div>"
      ],
      "text/plain": [
       "   CHR        RSID       BP A1 A2  ref_eur_1000G  ref_afr_1000G  \\\n",
       "0    1   rs2887286  1156131  C  T       0.173275       0.541663   \n",
       "1    1  rs41477744  2329564  A  G       0.001238       0.035714   \n",
       "2    1   rs9661525  2952840  G  T       0.168316       0.120048   \n",
       "3    1   rs2817174  3044181  C  T       0.428213       0.959325   \n",
       "4    1  rs12139206  3504073  T  C       0.204215       0.801565   \n",
       "5    1   rs7514979  3654595  T  C       0.004951       0.418652   \n",
       "6    1   rs9792946  4119662  G  A       0.100259       0.246031   \n",
       "7    1  rs10753372  4273842  T  C       0.526005       0.821432   \n",
       "8    1    rs678246  4561467  G  T       0.103961       0.141857   \n",
       "9    1  rs12029491  5017652  T  C       0.040842       0.118063   \n",
       "\n",
       "   ref_sas_1000G  ref_eas_1000G  ref_iam_1000G  gnomAD_afr  gnomAD_amr  \\\n",
       "0       0.531712       0.846223         0.7093    0.488610    0.525943   \n",
       "1       0.000000       0.000000         0.0000    0.045914    0.001179   \n",
       "2       0.099180       0.393853         0.2442    0.135977    0.286052   \n",
       "3       0.639072       0.570454         0.5000    0.854879    0.488180   \n",
       "4       0.393671       0.389881         0.3372    0.724178    0.295508   \n",
       "5       0.000000       0.000000         0.0000    0.336249    0.016509   \n",
       "6       0.170780       0.068450         0.0000    0.189055    0.058962   \n",
       "7       0.663622       0.699395         0.8605    0.777803    0.682033   \n",
       "8       0.149279       0.001984         0.0000    0.148285    0.057783   \n",
       "9       0.073624       0.225200         0.0000    0.106782    0.024764   \n",
       "\n",
       "   gnomAD_oth          adjusted_AF  \n",
       "0    0.229705   0.5575164414486923  \n",
       "1    0.008272  0.03233705794768612  \n",
       "2    0.155617  0.13178892615694165  \n",
       "3    0.470425   0.9158880605633803  \n",
       "4    0.258748   0.7576516382293762  \n",
       "5    0.024816  0.37906133269617703  \n",
       "6    0.087477  0.22276462364185112  \n",
       "7    0.641144   0.8251261501006038  \n",
       "8    0.106618   0.1284421527162978  \n",
       "9    0.051471  0.10689763581488934  "
      ]
     },
     "execution_count": 9,
     "metadata": {},
     "output_type": "execute_result"
    }
   ],
   "source": [
    "my_adj_AF.head(10)"
   ]
  }
 ],
 "metadata": {
  "kernelspec": {
   "display_name": "Python 3",
   "language": "python",
   "name": "python3"
  },
  "language_info": {
   "codemirror_mode": {
    "name": "ipython",
    "version": 3
   },
   "file_extension": ".py",
   "mimetype": "text/x-python",
   "name": "python",
   "nbconvert_exporter": "python",
   "pygments_lexer": "ipython3",
   "version": "3.6.3"
  }
 },
 "nbformat": 4,
 "nbformat_minor": 2
}
